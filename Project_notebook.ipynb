{
 "cells": [
  {
   "cell_type": "markdown",
   "metadata": {},
   "source": [
    "# Introduction to simple linear regression"
   ]
  },
  {
   "cell_type": "markdown",
   "metadata": {},
   "source": [
    "Simple linear regression is a fundamental statistical method used to quantify the relationship between two variables. It allows us to predict an outcome (dependent variable) based on the value of one predictor (independent variable). In this challenge, we will apply simple linear regression to understand how different environmental factors affect the standardised yield of crops."
   ]
  },
  {
   "cell_type": "markdown",
   "metadata": {},
   "source": [
    "# Initial data exploration"
   ]
  },
  {
   "cell_type": "markdown",
   "metadata": {},
   "source": [
    "Before we sow the seeds of our regression model, we need to get to know our soil – the dataset. This dataset contains various factors that might influence a farm's crop yield, from the elevation of the fields to the average temperature they bask in.\n",
    "\n",
    "Spend some time looking at the data dictionary and start thinking about what could be influencing our crop yield."
   ]
  },
  {
   "cell_type": "markdown",
   "metadata": {},
   "source": [
    "# Data dictionary"
   ]
  },
  {
   "cell_type": "markdown",
   "metadata": {},
   "source": [
    "**1. Geographic features**\n",
    "\n",
    "- **Field_ID:** A unique identifier for each field (BigInt).\n",
    " \n",
    "- **Elevation:** The elevation of the field above sea level in metres (Float).\n",
    "\n",
    "- **Latitude:** Geographical latitude of the field in degrees (Float). (DUMMY VARIABLE- the simulation might have created a relationship)\n",
    "\n",
    "- **Longitude:** Geographical longitude of the field in degrees (Float). (DUMMY VARIABLE- the simulation might have created a relationship)\n",
    "\n",
    "- **Location:** Province the field is in (Text).\n",
    "\n",
    "- **Slope:** The slope of the land in the field (Float).\n",
    "\n",
    "**2. Weather features**\n",
    "\n",
    "- **Rainfall:** Amount of rainfall in the area in mm (Float).\n",
    "\n",
    "- **Min_temperature_C:** Average minimum temperature recorded in Celsius (Float).(DUMMY VARIABLE)\n",
    "\n",
    "- **Max_temperature_C:** Average maximum temperature recorded in Celsius (Float).(DUMMY VARIABLE)\n",
    "\n",
    "- **Ave_temps:** Average temperature in Celcius (Float).\n",
    "\n",
    "**3. Soil and crop features**\n",
    "\n",
    "- **Soil_fertility:** A measure of soil fertility where 0 is infertile soil, and 1 is very fertile soil (Float).\n",
    "\n",
    "- **Soil_type:** Type of soil present in the field (Text).\n",
    "\n",
    "- **pH:** pH level of the soil, which is a measure of how acidic/basic the soil is (Float).\n",
    "\n",
    "**4. Farm management features**\n",
    "\n",
    "- **Field_ID:** Corresponding field identifier (BigInt).\n",
    "\n",
    "- **Pollution_level:** Level of pollution in the area where 0 is unpolluted and 1 is very polluted (Float).\n",
    "\n",
    "- **Plot_size:** Size of the plot in the field (Ha) (Float). (DUMMY VARIABLE)\n",
    "\n",
    "- **Chosen_crop:** Type of crop chosen for cultivation (Text).\n",
    "\n",
    "- **Annual_yield:** Annual yield from the field (Float). This is the total output of the field. The field size and type of crop will affect the Annual Yield (DUMMY VARIABLE - Removed)\n",
    "\n",
    "<br>\n",
    "\n",
    "**5. Target variable**\n",
    "- **Standard_yield:** Standardised yield expected from the field, normalised per crop (Float). This is independent of field size, or crop type. Multiplying this number by the field size, and average crop yield will give the Annual_Yield.\n",
    "\n",
    "---"
   ]
  },
  {
   "cell_type": "markdown",
   "metadata": {},
   "source": [
    "**Important:** Ensure that `data_ingestion.py` file and the `field_data_processor.py` files are stored in the same folder as your notebook, otherwise the data import will fail. The links to the files are below:\n",
    "\n",
    "[Download files here](https://github.com/EbrahemHassan132/data_validation.git)\n"
   ]
  },
  {
   "cell_type": "code",
   "execution_count": 2,
   "metadata": {},
   "outputs": [
    {
     "name": "stderr",
     "output_type": "stream",
     "text": [
      "2024-12-24 17:37:33,796 - data_ingestion - INFO - Database engine created successfully.\n",
      "2024-12-24 17:37:33,937 - data_ingestion - INFO - Query executed successfully.\n",
      "2024-12-24 17:37:33,938 - data_processing.field_data_processor.FieldDataProcessor - INFO - Sucessfully loaded data.\n",
      "2024-12-24 17:37:33,941 - data_processing.field_data_processor.FieldDataProcessor - INFO - Swapped columns: Annual_yield with Crop_type\n",
      "2024-12-24 17:37:34,651 - data_ingestion - INFO - CSV file read successfully from the web.\n"
     ]
    }
   ],
   "source": [
    "# Read the database, and clean the data using the processing modules we built.\n",
    "\n",
    "import re\n",
    "import numpy as np\n",
    "import pandas as pd\n",
    "from data_processing.field_data_processor import FieldDataProcessor\n",
    "# from weather_data_processor import WeatherDataProcessor\n",
    "import logging \n",
    "\n",
    "logging.basicConfig(level=logging.INFO, format='%(asctime)s - %(name)s - %(levelname)s - %(message)s')\n",
    "\n",
    "config_params = {\n",
    "    \"sql_query\": \"\"\"\n",
    "            SELECT *\n",
    "            FROM geographic_features\n",
    "            LEFT JOIN weather_features USING (Field_ID)\n",
    "            LEFT JOIN soil_and_crop_features USING (Field_ID)\n",
    "            LEFT JOIN farm_management_features USING (Field_ID)\n",
    "            \"\"\",\n",
    "    \"db_path\": 'sqlite:///Maji_Ndogo_farm_survey_small.db',\n",
    "    \"columns_to_rename\": {'Annual_yield': 'Crop_type', 'Crop_type': 'Annual_yield'},\n",
    "    \"values_to_rename\": {'cassaval': 'cassava', 'wheatn': 'wheat', 'teaa': 'tea'},\n",
    "    \"weather_csv_path\": \"https://raw.githubusercontent.com/Explore-AI/Public-Data/master/Maji_Ndogo/Weather_station_data.csv\",\n",
    "    \"weather_mapping_csv\": \"https://raw.githubusercontent.com/Explore-AI/Public-Data/master/Maji_Ndogo/Weather_data_field_mapping.csv\",\n",
    "    \"regex_patterns\" : {\n",
    "            'Rainfall': r'(\\d+(\\.\\d+)?)\\s?mm',\n",
    "            'Temperature': r'(\\d+(\\.\\d+)?)\\s?C',\n",
    "            'Pollution_level': r'=\\s*(-?\\d+(\\.\\d+)?)|Pollution at \\s*(-?\\d+(\\.\\d+)?)'\n",
    "            },\n",
    "}\n",
    "# Ignoring the field data for now.\n",
    "field_processor = FieldDataProcessor(config_params)\n",
    "field_processor.process()\n",
    "field_df = field_processor.df\n",
    "\n",
    "# We're not going to use the weather data this time, so we'll ignore it.\n",
    "# weather_processor = WeatherDataProcessor(config_params)\n",
    "# weather_processor.process()\n",
    "# weather_df = weather_processor.weather_df\n",
    "\n",
    "dataset = field_df.drop(\"Weather_station\", axis=1)"
   ]
  },
  {
   "cell_type": "code",
   "execution_count": 4,
   "metadata": {},
   "outputs": [
    {
     "data": {
      "text/html": [
       "<div>\n",
       "<style scoped>\n",
       "    .dataframe tbody tr th:only-of-type {\n",
       "        vertical-align: middle;\n",
       "    }\n",
       "\n",
       "    .dataframe tbody tr th {\n",
       "        vertical-align: top;\n",
       "    }\n",
       "\n",
       "    .dataframe thead th {\n",
       "        text-align: right;\n",
       "    }\n",
       "</style>\n",
       "<table border=\"1\" class=\"dataframe\">\n",
       "  <thead>\n",
       "    <tr style=\"text-align: right;\">\n",
       "      <th></th>\n",
       "      <th>Field_ID</th>\n",
       "      <th>Elevation</th>\n",
       "      <th>Latitude</th>\n",
       "      <th>Longitude</th>\n",
       "      <th>Location</th>\n",
       "      <th>Slope</th>\n",
       "      <th>Rainfall</th>\n",
       "      <th>Min_temperature_C</th>\n",
       "      <th>Max_temperature_C</th>\n",
       "      <th>Ave_temps</th>\n",
       "      <th>Soil_fertility</th>\n",
       "      <th>Soil_type</th>\n",
       "      <th>pH</th>\n",
       "      <th>Pollution_level</th>\n",
       "      <th>Plot_size</th>\n",
       "      <th>Annual_yield</th>\n",
       "      <th>Crop_type</th>\n",
       "      <th>Standard_yield</th>\n",
       "    </tr>\n",
       "  </thead>\n",
       "  <tbody>\n",
       "    <tr>\n",
       "      <th>0</th>\n",
       "      <td>40734</td>\n",
       "      <td>786.05580</td>\n",
       "      <td>-7.389911</td>\n",
       "      <td>-7.556202</td>\n",
       "      <td>Rural_Akatsi</td>\n",
       "      <td>14.795113</td>\n",
       "      <td>1125.2</td>\n",
       "      <td>-3.1</td>\n",
       "      <td>33.1</td>\n",
       "      <td>15.00</td>\n",
       "      <td>0.62</td>\n",
       "      <td>Sandy</td>\n",
       "      <td>6.169393</td>\n",
       "      <td>8.526684e-02</td>\n",
       "      <td>1.3</td>\n",
       "      <td>0.751354</td>\n",
       "      <td>cassava</td>\n",
       "      <td>0.577964</td>\n",
       "    </tr>\n",
       "    <tr>\n",
       "      <th>1</th>\n",
       "      <td>30629</td>\n",
       "      <td>674.33410</td>\n",
       "      <td>-7.736849</td>\n",
       "      <td>-1.051539</td>\n",
       "      <td>Rural_Sokoto</td>\n",
       "      <td>11.374611</td>\n",
       "      <td>1450.7</td>\n",
       "      <td>-3.9</td>\n",
       "      <td>30.6</td>\n",
       "      <td>13.35</td>\n",
       "      <td>0.64</td>\n",
       "      <td>Volcanic</td>\n",
       "      <td>5.676648</td>\n",
       "      <td>3.996838e-01</td>\n",
       "      <td>2.2</td>\n",
       "      <td>1.069865</td>\n",
       "      <td>cassava</td>\n",
       "      <td>0.486302</td>\n",
       "    </tr>\n",
       "    <tr>\n",
       "      <th>2</th>\n",
       "      <td>39924</td>\n",
       "      <td>826.53390</td>\n",
       "      <td>-9.926616</td>\n",
       "      <td>0.115156</td>\n",
       "      <td>Rural_Sokoto</td>\n",
       "      <td>11.339692</td>\n",
       "      <td>2208.9</td>\n",
       "      <td>-1.8</td>\n",
       "      <td>28.4</td>\n",
       "      <td>13.30</td>\n",
       "      <td>0.69</td>\n",
       "      <td>Volcanic</td>\n",
       "      <td>5.331993</td>\n",
       "      <td>3.580286e-01</td>\n",
       "      <td>3.4</td>\n",
       "      <td>2.208801</td>\n",
       "      <td>tea</td>\n",
       "      <td>0.649647</td>\n",
       "    </tr>\n",
       "    <tr>\n",
       "      <th>3</th>\n",
       "      <td>5754</td>\n",
       "      <td>574.94617</td>\n",
       "      <td>-2.420131</td>\n",
       "      <td>-6.592215</td>\n",
       "      <td>Rural_Kilimani</td>\n",
       "      <td>7.109855</td>\n",
       "      <td>328.8</td>\n",
       "      <td>-5.8</td>\n",
       "      <td>32.2</td>\n",
       "      <td>13.20</td>\n",
       "      <td>0.54</td>\n",
       "      <td>Loamy</td>\n",
       "      <td>5.328150</td>\n",
       "      <td>2.866871e-01</td>\n",
       "      <td>2.4</td>\n",
       "      <td>1.277635</td>\n",
       "      <td>cassava</td>\n",
       "      <td>0.532348</td>\n",
       "    </tr>\n",
       "    <tr>\n",
       "      <th>4</th>\n",
       "      <td>14146</td>\n",
       "      <td>886.35300</td>\n",
       "      <td>-3.055434</td>\n",
       "      <td>-7.952609</td>\n",
       "      <td>Rural_Kilimani</td>\n",
       "      <td>55.007656</td>\n",
       "      <td>785.2</td>\n",
       "      <td>-2.5</td>\n",
       "      <td>31.0</td>\n",
       "      <td>14.25</td>\n",
       "      <td>0.72</td>\n",
       "      <td>Sandy</td>\n",
       "      <td>5.721234</td>\n",
       "      <td>4.319027e-02</td>\n",
       "      <td>1.5</td>\n",
       "      <td>0.832614</td>\n",
       "      <td>wheat</td>\n",
       "      <td>0.555076</td>\n",
       "    </tr>\n",
       "    <tr>\n",
       "      <th>...</th>\n",
       "      <td>...</td>\n",
       "      <td>...</td>\n",
       "      <td>...</td>\n",
       "      <td>...</td>\n",
       "      <td>...</td>\n",
       "      <td>...</td>\n",
       "      <td>...</td>\n",
       "      <td>...</td>\n",
       "      <td>...</td>\n",
       "      <td>...</td>\n",
       "      <td>...</td>\n",
       "      <td>...</td>\n",
       "      <td>...</td>\n",
       "      <td>...</td>\n",
       "      <td>...</td>\n",
       "      <td>...</td>\n",
       "      <td>...</td>\n",
       "      <td>...</td>\n",
       "    </tr>\n",
       "    <tr>\n",
       "      <th>5649</th>\n",
       "      <td>11472</td>\n",
       "      <td>681.36145</td>\n",
       "      <td>-7.358371</td>\n",
       "      <td>-6.254369</td>\n",
       "      <td>Rural_Akatsi</td>\n",
       "      <td>16.213196</td>\n",
       "      <td>885.7</td>\n",
       "      <td>-4.3</td>\n",
       "      <td>33.4</td>\n",
       "      <td>14.55</td>\n",
       "      <td>0.61</td>\n",
       "      <td>Sandy</td>\n",
       "      <td>5.741063</td>\n",
       "      <td>3.286828e-01</td>\n",
       "      <td>1.1</td>\n",
       "      <td>0.609930</td>\n",
       "      <td>potato</td>\n",
       "      <td>0.554482</td>\n",
       "    </tr>\n",
       "    <tr>\n",
       "      <th>5650</th>\n",
       "      <td>19660</td>\n",
       "      <td>667.02120</td>\n",
       "      <td>-3.154559</td>\n",
       "      <td>-4.475046</td>\n",
       "      <td>Rural_Kilimani</td>\n",
       "      <td>2.397553</td>\n",
       "      <td>501.1</td>\n",
       "      <td>-4.8</td>\n",
       "      <td>32.1</td>\n",
       "      <td>13.65</td>\n",
       "      <td>0.54</td>\n",
       "      <td>Sandy</td>\n",
       "      <td>5.445833</td>\n",
       "      <td>1.602583e-01</td>\n",
       "      <td>8.7</td>\n",
       "      <td>3.812289</td>\n",
       "      <td>maize</td>\n",
       "      <td>0.438194</td>\n",
       "    </tr>\n",
       "    <tr>\n",
       "      <th>5651</th>\n",
       "      <td>41296</td>\n",
       "      <td>670.77900</td>\n",
       "      <td>-14.472861</td>\n",
       "      <td>-6.110221</td>\n",
       "      <td>Rural_Hawassa</td>\n",
       "      <td>7.636470</td>\n",
       "      <td>1586.6</td>\n",
       "      <td>-3.8</td>\n",
       "      <td>33.4</td>\n",
       "      <td>14.80</td>\n",
       "      <td>0.64</td>\n",
       "      <td>Volcanic</td>\n",
       "      <td>5.385873</td>\n",
       "      <td>8.221326e-09</td>\n",
       "      <td>2.1</td>\n",
       "      <td>1.681629</td>\n",
       "      <td>tea</td>\n",
       "      <td>0.800776</td>\n",
       "    </tr>\n",
       "    <tr>\n",
       "      <th>5652</th>\n",
       "      <td>33090</td>\n",
       "      <td>429.48840</td>\n",
       "      <td>-14.653089</td>\n",
       "      <td>-6.984116</td>\n",
       "      <td>Rural_Hawassa</td>\n",
       "      <td>13.944720</td>\n",
       "      <td>1272.2</td>\n",
       "      <td>-6.2</td>\n",
       "      <td>34.6</td>\n",
       "      <td>14.20</td>\n",
       "      <td>0.63</td>\n",
       "      <td>Silt</td>\n",
       "      <td>5.562508</td>\n",
       "      <td>6.917245e-10</td>\n",
       "      <td>1.3</td>\n",
       "      <td>0.659874</td>\n",
       "      <td>cassava</td>\n",
       "      <td>0.507595</td>\n",
       "    </tr>\n",
       "    <tr>\n",
       "      <th>5653</th>\n",
       "      <td>8375</td>\n",
       "      <td>763.09030</td>\n",
       "      <td>-4.317028</td>\n",
       "      <td>-6.344461</td>\n",
       "      <td>Rural_Kilimani</td>\n",
       "      <td>35.189430</td>\n",
       "      <td>516.4</td>\n",
       "      <td>-3.8</td>\n",
       "      <td>29.6</td>\n",
       "      <td>12.90</td>\n",
       "      <td>0.64</td>\n",
       "      <td>Sandy</td>\n",
       "      <td>5.087792</td>\n",
       "      <td>2.612715e-01</td>\n",
       "      <td>0.5</td>\n",
       "      <td>0.226532</td>\n",
       "      <td>wheat</td>\n",
       "      <td>0.453064</td>\n",
       "    </tr>\n",
       "  </tbody>\n",
       "</table>\n",
       "<p>5654 rows × 18 columns</p>\n",
       "</div>"
      ],
      "text/plain": [
       "      Field_ID  Elevation   Latitude  Longitude        Location      Slope  \\\n",
       "0        40734  786.05580  -7.389911  -7.556202    Rural_Akatsi  14.795113   \n",
       "1        30629  674.33410  -7.736849  -1.051539    Rural_Sokoto  11.374611   \n",
       "2        39924  826.53390  -9.926616   0.115156    Rural_Sokoto  11.339692   \n",
       "3         5754  574.94617  -2.420131  -6.592215  Rural_Kilimani   7.109855   \n",
       "4        14146  886.35300  -3.055434  -7.952609  Rural_Kilimani  55.007656   \n",
       "...        ...        ...        ...        ...             ...        ...   \n",
       "5649     11472  681.36145  -7.358371  -6.254369    Rural_Akatsi  16.213196   \n",
       "5650     19660  667.02120  -3.154559  -4.475046  Rural_Kilimani   2.397553   \n",
       "5651     41296  670.77900 -14.472861  -6.110221   Rural_Hawassa   7.636470   \n",
       "5652     33090  429.48840 -14.653089  -6.984116   Rural_Hawassa  13.944720   \n",
       "5653      8375  763.09030  -4.317028  -6.344461  Rural_Kilimani  35.189430   \n",
       "\n",
       "      Rainfall  Min_temperature_C  Max_temperature_C  Ave_temps  \\\n",
       "0       1125.2               -3.1               33.1      15.00   \n",
       "1       1450.7               -3.9               30.6      13.35   \n",
       "2       2208.9               -1.8               28.4      13.30   \n",
       "3        328.8               -5.8               32.2      13.20   \n",
       "4        785.2               -2.5               31.0      14.25   \n",
       "...        ...                ...                ...        ...   \n",
       "5649     885.7               -4.3               33.4      14.55   \n",
       "5650     501.1               -4.8               32.1      13.65   \n",
       "5651    1586.6               -3.8               33.4      14.80   \n",
       "5652    1272.2               -6.2               34.6      14.20   \n",
       "5653     516.4               -3.8               29.6      12.90   \n",
       "\n",
       "      Soil_fertility Soil_type        pH  Pollution_level  Plot_size  \\\n",
       "0               0.62     Sandy  6.169393     8.526684e-02        1.3   \n",
       "1               0.64  Volcanic  5.676648     3.996838e-01        2.2   \n",
       "2               0.69  Volcanic  5.331993     3.580286e-01        3.4   \n",
       "3               0.54     Loamy  5.328150     2.866871e-01        2.4   \n",
       "4               0.72     Sandy  5.721234     4.319027e-02        1.5   \n",
       "...              ...       ...       ...              ...        ...   \n",
       "5649            0.61     Sandy  5.741063     3.286828e-01        1.1   \n",
       "5650            0.54     Sandy  5.445833     1.602583e-01        8.7   \n",
       "5651            0.64  Volcanic  5.385873     8.221326e-09        2.1   \n",
       "5652            0.63      Silt  5.562508     6.917245e-10        1.3   \n",
       "5653            0.64     Sandy  5.087792     2.612715e-01        0.5   \n",
       "\n",
       "      Annual_yield Crop_type  Standard_yield  \n",
       "0         0.751354   cassava        0.577964  \n",
       "1         1.069865   cassava        0.486302  \n",
       "2         2.208801       tea        0.649647  \n",
       "3         1.277635   cassava        0.532348  \n",
       "4         0.832614     wheat        0.555076  \n",
       "...            ...       ...             ...  \n",
       "5649      0.609930    potato        0.554482  \n",
       "5650      3.812289     maize        0.438194  \n",
       "5651      1.681629       tea        0.800776  \n",
       "5652      0.659874   cassava        0.507595  \n",
       "5653      0.226532     wheat        0.453064  \n",
       "\n",
       "[5654 rows x 18 columns]"
      ]
     },
     "execution_count": 4,
     "metadata": {},
     "output_type": "execute_result"
    }
   ],
   "source": [
    "dataset"
   ]
  },
  {
   "cell_type": "markdown",
   "metadata": {},
   "source": [
    "# Analysis"
   ]
  },
  {
   "cell_type": "markdown",
   "metadata": {},
   "source": [
    "With our data ready and loaded, it's time to start exploring. \n",
    "\n",
    "Our goal is to determine whether any of the features in our dataset are influencing the `Standard_yield` of a farm. If we can figure out what these relationships are, then we can use them to start predicting what future yields will be, based on these features. \n",
    "\n",
    "For this analysis, we want to find whether any features have a linear relationship with `Standard_yield` so that we can fit a linear regression model to the data. This is important because if we try and fit a linear regression model to non-linear data, our predictions won't be good.\n",
    "\n",
    "Any of the features could have an impact on the `Standard_yield`. Let's begin with `Ave_temps`, the average temperature of the region, and its relationship to `Standard_yield`.\n",
    "\n",
    "Let's start with the basics: a scatter plot.\n"
   ]
  },
  {
   "cell_type": "code",
   "execution_count": 6,
   "metadata": {},
   "outputs": [
    {
     "data": {
      "text/plain": [
       "<matplotlib.collections.PathCollection at 0x231831eebd0>"
      ]
     },
     "execution_count": 6,
     "metadata": {},
     "output_type": "execute_result"
    },
    {
     "data": {
      "image/png": "[encoded data removed]",
      "text/plain": [
       "<Figure size 640x480 with 1 Axes>"
      ]
     },
     "metadata": {},
     "output_type": "display_data"
    }
   ],
   "source": [
    "import matplotlib.pyplot as plt\n",
    "\n",
    "# let's create a scaatter plot between the Standard_yield and Ave_temp\n",
    "\n",
    "plt.scatter(dataset['Ave_temps'], dataset['Standard_yield'], color='red', marker='o')"
   ]
  },
  {
   "cell_type": "markdown",
   "metadata": {},
   "source": [
    "It appears that no linear relationship is present but lets check further.\n",
    "\n",
    "Now, let's write a function to calculate the Pearson correlation coefficient."
   ]
  },
  {
   "cell_type": "markdown",
   "metadata": {},
   "source": [
    "We will create a function named `get_correlation` that:\n",
    "1. Takes a DataFrame and the names of the columns we want to determine the correlation for as parameters (`Ave_temps` and `Standard_yield`).\n",
    "2. Calculates the Pearson correlation coefficient between these two columns to quantify their linear relationship.\n",
    "4. Returns the Pearson correlation coefficient."
   ]
  },
  {
   "cell_type": "code",
   "execution_count": 22,
   "metadata": {},
   "outputs": [],
   "source": [
    "from scipy.stats import pearsonr"
   ]
  },
  {
   "cell_type": "code",
   "execution_count": 23,
   "metadata": {},
   "outputs": [
    {
     "name": "stdout",
     "output_type": "stream",
     "text": [
      "\u001b[1;31mSignature:\u001b[0m \u001b[0mpearsonr\u001b[0m\u001b[1;33m(\u001b[0m\u001b[0mx\u001b[0m\u001b[1;33m,\u001b[0m \u001b[0my\u001b[0m\u001b[1;33m,\u001b[0m \u001b[1;33m*\u001b[0m\u001b[1;33m,\u001b[0m \u001b[0malternative\u001b[0m\u001b[1;33m=\u001b[0m\u001b[1;34m'two-sided'\u001b[0m\u001b[1;33m,\u001b[0m \u001b[0mmethod\u001b[0m\u001b[1;33m=\u001b[0m\u001b[1;32mNone\u001b[0m\u001b[1;33m)\u001b[0m\u001b[1;33m\u001b[0m\u001b[1;33m\u001b[0m\u001b[0m\n",
      "\u001b[1;31mDocstring:\u001b[0m\n",
      "Pearson correlation coefficient and p-value for testing non-correlation.\n",
      "\n",
      "The Pearson correlation coefficient [1]_ measures the linear relationship\n",
      "between two datasets. Like other correlation\n",
      "coefficients, this one varies between -1 and +1 with 0 implying no\n",
      "correlation. Correlations of -1 or +1 imply an exact linear relationship.\n",
      "Positive correlations imply that as x increases, so does y. Negative\n",
      "correlations imply that as x increases, y decreases.\n",
      "\n",
      "This function also performs a test of the null hypothesis that the\n",
      "distributions underlying the samples are uncorrelated and normally\n",
      "distributed. (See Kowalski [3]_\n",
      "for a discussion of the effects of non-normality of the input on the\n",
      "distribution of the correlation coefficient.)\n",
      "The p-value roughly indicates the probability of an uncorrelated system\n",
      "producing datasets that have a Pearson correlation at least as extreme\n",
      "as the one computed from these datasets.\n",
      "\n",
      "Parameters\n",
      "----------\n",
      "x : (N,) array_like\n",
      "    Input array.\n",
      "y : (N,) array_like\n",
      "    Input array.\n",
      "alternative : {'two-sided', 'greater', 'less'}, optional\n",
      "    Defines the alternative hypothesis. Default is 'two-sided'.\n",
      "    The following options are available:\n",
      "\n",
      "    * 'two-sided': the correlation is nonzero\n",
      "    * 'less': the correlation is negative (less than zero)\n",
      "    * 'greater':  the correlation is positive (greater than zero)\n",
      "\n",
      "    .. versionadded:: 1.9.0\n",
      "method : ResamplingMethod, optional\n",
      "    Defines the method used to compute the p-value. If `method` is an\n",
      "    instance of `PermutationMethod`/`MonteCarloMethod`, the p-value is\n",
      "    computed using\n",
      "    `scipy.stats.permutation_test`/`scipy.stats.monte_carlo_test` with the\n",
      "    provided configuration options and other appropriate settings.\n",
      "    Otherwise, the p-value is computed as documented in the notes.\n",
      "\n",
      "    .. versionadded:: 1.11.0\n",
      "\n",
      "Returns\n",
      "-------\n",
      "result : `~scipy.stats._result_classes.PearsonRResult`\n",
      "    An object with the following attributes:\n",
      "\n",
      "    statistic : float\n",
      "        Pearson product-moment correlation coefficient.\n",
      "    pvalue : float\n",
      "        The p-value associated with the chosen alternative.\n",
      "\n",
      "    The object has the following method:\n",
      "\n",
      "    confidence_interval(confidence_level, method)\n",
      "        This computes the confidence interval of the correlation\n",
      "        coefficient `statistic` for the given confidence level.\n",
      "        The confidence interval is returned in a ``namedtuple`` with\n",
      "        fields `low` and `high`. If `method` is not provided, the\n",
      "        confidence interval is computed using the Fisher transformation\n",
      "        [1]_. If `method` is an instance of `BootstrapMethod`, the\n",
      "        confidence interval is computed using `scipy.stats.bootstrap` with\n",
      "        the provided configuration options and other appropriate settings.\n",
      "        In some cases, confidence limits may be NaN due to a degenerate\n",
      "        resample, and this is typical for very small samples (~6\n",
      "        observations).\n",
      "\n",
      "Warns\n",
      "-----\n",
      "`~scipy.stats.ConstantInputWarning`\n",
      "    Raised if an input is a constant array.  The correlation coefficient\n",
      "    is not defined in this case, so ``np.nan`` is returned.\n",
      "\n",
      "`~scipy.stats.NearConstantInputWarning`\n",
      "    Raised if an input is \"nearly\" constant.  The array ``x`` is considered\n",
      "    nearly constant if ``norm(x - mean(x)) < 1e-13 * abs(mean(x))``.\n",
      "    Numerical errors in the calculation ``x - mean(x)`` in this case might\n",
      "    result in an inaccurate calculation of r.\n",
      "\n",
      "See Also\n",
      "--------\n",
      "spearmanr : Spearman rank-order correlation coefficient.\n",
      "kendalltau : Kendall's tau, a correlation measure for ordinal data.\n",
      "\n",
      "Notes\n",
      "-----\n",
      "The correlation coefficient is calculated as follows:\n",
      "\n",
      ".. math::\n",
      "\n",
      "    r = \\frac{\\sum (x - m_x) (y - m_y)}\n",
      "             {\\sqrt{\\sum (x - m_x)^2 \\sum (y - m_y)^2}}\n",
      "\n",
      "where :math:`m_x` is the mean of the vector x and :math:`m_y` is\n",
      "the mean of the vector y.\n",
      "\n",
      "Under the assumption that x and y are drawn from\n",
      "independent normal distributions (so the population correlation coefficient\n",
      "is 0), the probability density function of the sample correlation\n",
      "coefficient r is ([1]_, [2]_):\n",
      "\n",
      ".. math::\n",
      "    f(r) = \\frac{{(1-r^2)}^{n/2-2}}{\\mathrm{B}(\\frac{1}{2},\\frac{n}{2}-1)}\n",
      "\n",
      "where n is the number of samples, and B is the beta function.  This\n",
      "is sometimes referred to as the exact distribution of r.  This is\n",
      "the distribution that is used in `pearsonr` to compute the p-value when\n",
      "the `method` parameter is left at its default value (None).\n",
      "The distribution is a beta distribution on the interval [-1, 1],\n",
      "with equal shape parameters a = b = n/2 - 1.  In terms of SciPy's\n",
      "implementation of the beta distribution, the distribution of r is::\n",
      "\n",
      "    dist = scipy.stats.beta(n/2 - 1, n/2 - 1, loc=-1, scale=2)\n",
      "\n",
      "The default p-value returned by `pearsonr` is a two-sided p-value. For a\n",
      "given sample with correlation coefficient r, the p-value is\n",
      "the probability that abs(r') of a random sample x' and y' drawn from\n",
      "the population with zero correlation would be greater than or equal\n",
      "to abs(r). In terms of the object ``dist`` shown above, the p-value\n",
      "for a given r and length n can be computed as::\n",
      "\n",
      "    p = 2*dist.cdf(-abs(r))\n",
      "\n",
      "When n is 2, the above continuous distribution is not well-defined.\n",
      "One can interpret the limit of the beta distribution as the shape\n",
      "parameters a and b approach a = b = 0 as a discrete distribution with\n",
      "equal probability masses at r = 1 and r = -1.  More directly, one\n",
      "can observe that, given the data x = [x1, x2] and y = [y1, y2], and\n",
      "assuming x1 != x2 and y1 != y2, the only possible values for r are 1\n",
      "and -1.  Because abs(r') for any sample x' and y' with length 2 will\n",
      "be 1, the two-sided p-value for a sample of length 2 is always 1.\n",
      "\n",
      "For backwards compatibility, the object that is returned also behaves\n",
      "like a tuple of length two that holds the statistic and the p-value.\n",
      "\n",
      "References\n",
      "----------\n",
      ".. [1] \"Pearson correlation coefficient\", Wikipedia,\n",
      "       https://en.wikipedia.org/wiki/Pearson_correlation_coefficient\n",
      ".. [2] Student, \"Probable error of a correlation coefficient\",\n",
      "       Biometrika, Volume 6, Issue 2-3, 1 September 1908, pp. 302-310.\n",
      ".. [3] C. J. Kowalski, \"On the Effects of Non-Normality on the Distribution\n",
      "       of the Sample Product-Moment Correlation Coefficient\"\n",
      "       Journal of the Royal Statistical Society. Series C (Applied\n",
      "       Statistics), Vol. 21, No. 1 (1972), pp. 1-12.\n",
      "\n",
      "Examples\n",
      "--------\n",
      ">>> import numpy as np\n",
      ">>> from scipy import stats\n",
      ">>> x, y = [1, 2, 3, 4, 5, 6, 7], [10, 9, 2.5, 6, 4, 3, 2]\n",
      ">>> res = stats.pearsonr(x, y)\n",
      ">>> res\n",
      "PearsonRResult(statistic=-0.828503883588428, pvalue=0.021280260007523286)\n",
      "\n",
      "To perform an exact permutation version of the test:\n",
      "\n",
      ">>> rng = np.random.default_rng(7796654889291491997)\n",
      ">>> method = stats.PermutationMethod(n_resamples=np.inf, random_state=rng)\n",
      ">>> stats.pearsonr(x, y, method=method)\n",
      "PearsonRResult(statistic=-0.828503883588428, pvalue=0.028174603174603175)\n",
      "\n",
      "To perform the test under the null hypothesis that the data were drawn from\n",
      "*uniform* distributions:\n",
      "\n",
      ">>> method = stats.MonteCarloMethod(rvs=(rng.uniform, rng.uniform))\n",
      ">>> stats.pearsonr(x, y, method=method)\n",
      "PearsonRResult(statistic=-0.828503883588428, pvalue=0.0188)\n",
      "\n",
      "To produce an asymptotic 90% confidence interval:\n",
      "\n",
      ">>> res.confidence_interval(confidence_level=0.9)\n",
      "ConfidenceInterval(low=-0.9644331982722841, high=-0.3460237473272273)\n",
      "\n",
      "And for a bootstrap confidence interval:\n",
      "\n",
      ">>> method = stats.BootstrapMethod(method='BCa', random_state=rng)\n",
      ">>> res.confidence_interval(confidence_level=0.9, method=method)\n",
      "ConfidenceInterval(low=-0.9983163756488651, high=-0.22771001702132443)  # may vary\n",
      "\n",
      "There is a linear dependence between x and y if y = a + b*x + e, where\n",
      "a,b are constants and e is a random error term, assumed to be independent\n",
      "of x. For simplicity, assume that x is standard normal, a=0, b=1 and let\n",
      "e follow a normal distribution with mean zero and standard deviation s>0.\n",
      "\n",
      ">>> rng = np.random.default_rng()\n",
      ">>> s = 0.5\n",
      ">>> x = stats.norm.rvs(size=500, random_state=rng)\n",
      ">>> e = stats.norm.rvs(scale=s, size=500, random_state=rng)\n",
      ">>> y = x + e\n",
      ">>> stats.pearsonr(x, y).statistic\n",
      "0.9001942438244763\n",
      "\n",
      "This should be close to the exact value given by\n",
      "\n",
      ">>> 1/np.sqrt(1 + s**2)\n",
      "0.8944271909999159\n",
      "\n",
      "For s=0.5, we observe a high level of correlation. In general, a large\n",
      "variance of the noise reduces the correlation, while the correlation\n",
      "approaches one as the variance of the error goes to zero.\n",
      "\n",
      "It is important to keep in mind that no correlation does not imply\n",
      "independence unless (x, y) is jointly normal. Correlation can even be zero\n",
      "when there is a very simple dependence structure: if X follows a\n",
      "standard normal distribution, let y = abs(x). Note that the correlation\n",
      "between x and y is zero. Indeed, since the expectation of x is zero,\n",
      "cov(x, y) = E[x*y]. By definition, this equals E[x*abs(x)] which is zero\n",
      "by symmetry. The following lines of code illustrate this observation:\n",
      "\n",
      ">>> y = np.abs(x)\n",
      ">>> stats.pearsonr(x, y)\n",
      "PearsonRResult(statistic=-0.05444919272687482, pvalue=0.22422294836207743)\n",
      "\n",
      "A non-zero correlation coefficient can be misleading. For example, if X has\n",
      "a standard normal distribution, define y = x if x < 0 and y = 0 otherwise.\n",
      "A simple calculation shows that corr(x, y) = sqrt(2/Pi) = 0.797...,\n",
      "implying a high level of correlation:\n",
      "\n",
      ">>> y = np.where(x < 0, x, 0)\n",
      ">>> stats.pearsonr(x, y)\n",
      "PearsonRResult(statistic=0.861985781588, pvalue=4.813432002751103e-149)\n",
      "\n",
      "This is unintuitive since there is no dependence of x and y if x is larger\n",
      "than zero which happens in about half of the cases if we sample x and y.\n",
      "\u001b[1;31mFile:\u001b[0m      c:\\users\\ebrahem\\.conda\\envs\\data_science\\lib\\site-packages\\scipy\\stats\\_stats_py.py\n",
      "\u001b[1;31mType:\u001b[0m      function"
     ]
    }
   ],
   "source": [
    "?pearsonr"
   ]
  },
  {
   "cell_type": "code",
   "execution_count": 24,
   "metadata": {},
   "outputs": [],
   "source": [
    "def get_correlation(dataframe, x, y):\n",
    "    \"\"\"\n",
    "    Returns the correlation between two columns in a dataframe.\n",
    "    params: \n",
    "    dataframe: pandas dataframe\n",
    "    x: string, column name\n",
    "    y: string, column name\n",
    "    returns: float, correlation between the two columns\n",
    "    \"\"\"\n",
    "    correlation,_ = pearsonr(dataframe[x], dataframe[y])\n",
    "    return correlation"
   ]
  },
  {
   "cell_type": "code",
   "execution_count": 25,
   "metadata": {},
   "outputs": [
    {
     "name": "stdout",
     "output_type": "stream",
     "text": [
      "Pearson correlation coefficient: 0.006785950289020154\n"
     ]
    }
   ],
   "source": [
    "correlation = get_correlation(dataset,'Ave_temps','Standard_yield')\n",
    "print(\"Pearson correlation coefficient:\", correlation)"
   ]
  },
  {
   "cell_type": "markdown",
   "metadata": {},
   "source": [
    "It's essential to visualise our data first; if the data doesn't follow a linear pattern, then a linear regression model may fail to accurately capture the underlying relationship.\n",
    "\n",
    "From the scatter plot and the correlation analysis we can see that:\n",
    "  - There is no linear relationship between `Ave_temps` and `Standard_yield`"
   ]
  },
  {
   "cell_type": "markdown",
   "metadata": {},
   "source": [
    "It's time to shift our gaze from the warmth of the sun to the haze of pollution. Could the levels of pollution, a concern for farmers and environmentalists alike, be an indicator of our yields?\n",
    "\n",
    "Let's begin by fitting a simple linear regression model, to try and capture the linear relationship between these columns.\n",
    "\n",
    "We will create a function named `fit_linear_regression_model` that:\n",
    "1. Takes in a DataFrame and the names of two columns.\n",
    "2. Fits a linear regression model to the data.\n",
    "3. Returns the model, the model predictions and the actual y-values.\n"
   ]
  },
  {
   "cell_type": "code",
   "execution_count": 26,
   "metadata": {},
   "outputs": [],
   "source": [
    "from sklearn.linear_model import LinearRegression"
   ]
  },
  {
   "cell_type": "code",
   "execution_count": 27,
   "metadata": {},
   "outputs": [],
   "source": [
    "def fit_linear_regression_model(dataframe, x, y):\n",
    "    \"\"\"\n",
    "    Fits a linear regression model to the data.\n",
    "    params:\n",
    "    dataframe: pandas dataframe\n",
    "    x: string, column name\n",
    "    y: string, column name\n",
    "    returns: tuple, (model, y_gen, y_true)\n",
    "    \"\"\"\n",
    "    lm = LinearRegression()\n",
    "    lm.fit(dataframe[x].values.reshape(-1,1), dataframe[y])\n",
    "    y_gen = lm.predict(dataframe[x].values.reshape(-1,1))\n",
    "\n",
    "    return lm, y_gen, dataframe[y]"
   ]
  },
  {
   "cell_type": "code",
   "execution_count": 28,
   "metadata": {},
   "outputs": [
    {
     "name": "stdout",
     "output_type": "stream",
     "text": [
      "Model: LinearRegression()\n",
      "Predictions: [0.5540956  0.50920888 0.51515565 ... 0.56626844 0.56626844 0.52896886]\n",
      "Actual Y-Values: 0       0.577964\n",
      "1       0.486302\n",
      "2       0.649647\n",
      "3       0.532348\n",
      "4       0.555076\n",
      "          ...   \n",
      "5649    0.554482\n",
      "5650    0.438194\n",
      "5651    0.800776\n",
      "5652    0.507595\n",
      "5653    0.453064\n",
      "Name: Standard_yield, Length: 5654, dtype: float64\n"
     ]
    }
   ],
   "source": [
    "model, predictions, y_values = fit_linear_regression_model(dataset, 'Pollution_level', 'Standard_yield')\n",
    "print(f\"Model: {model}\")\n",
    "print(f\"Predictions: {predictions}\")\n",
    "print(f\"Actual Y-Values: {y_values}\")"
   ]
  },
  {
   "cell_type": "markdown",
   "metadata": {},
   "source": [
    "Linear regression models only work well if our data is in fact linear. So, lets create a scatter plot to visualise the relationship between pollution and crop yields. In addition to this, let's use the predictions from the model we fit to add the line of best fit to our scatter plot."
   ]
  },
  {
   "cell_type": "code",
   "execution_count": 33,
   "metadata": {},
   "outputs": [
    {
     "data": {
      "image/png": "[encoded data removed]",
      "text/plain": [
       "<Figure size 640x480 with 1 Axes>"
      ]
     },
     "metadata": {},
     "output_type": "display_data"
    }
   ],
   "source": [
    "plt.scatter(dataset['Pollution_level'], dataset['Standard_yield'], marker='o')\n",
    "plt.plot(dataset['Pollution_level'], predictions, color='red')\n",
    "plt.xlabel('Pollution Level')\n",
    "plt.ylabel('Standard Yield')\n",
    "plt.title('Standard Yield vs Pollution Level')\n",
    "plt.legend(['Actual Data','Regression line' ])\n",
    "plt.show()"
   ]
  },
  {
   "cell_type": "markdown",
   "metadata": {},
   "source": [
    "Now, use the get_correlation() function that we defined earlier to test the correlation between `Pollution_level` and `Standard_yield`."
   ]
  },
  {
   "cell_type": "code",
   "execution_count": 34,
   "metadata": {},
   "outputs": [
    {
     "name": "stdout",
     "output_type": "stream",
     "text": [
      "Pearson correlation coefficient: -0.28576096462105427\n"
     ]
    }
   ],
   "source": [
    "Pollution_correlation = get_correlation(dataset,'Pollution_level','Standard_yield')\n",
    "print(\"Pearson correlation coefficient:\", Pollution_correlation)"
   ]
  },
  {
   "cell_type": "markdown",
   "metadata": {},
   "source": [
    "  - There is a weak inverse linear relationship between pollution and yield"
   ]
  },
  {
   "cell_type": "markdown",
   "metadata": {},
   "source": [
    "We can also gain a better understanding of our model by examining the slope and intercept.\n",
    "\n",
    "We will create a function named `get_slope_intercept` that:\n",
    "1. Inputs the `model` we fitted and calculates the slope and intercept of the line of best fit.\n",
    "2. Return the slope and intercept as a tuple."
   ]
  },
  {
   "cell_type": "code",
   "execution_count": 36,
   "metadata": {},
   "outputs": [],
   "source": [
    "def get_slope_intercept(model):\n",
    "    \"\"\"\n",
    "    Returns the slope and intercept of a linear regression model.\n",
    "    params:\n",
    "    model: sklearn.linear_model.LinearRegression\n",
    "    returns: tuple, (slope, intercept)\n",
    "    \"\"\"\n",
    "    slope = model.coef_[0]\n",
    "    intercept = model.intercept_\n",
    "    \n",
    "    return slope, intercept"
   ]
  },
  {
   "cell_type": "code",
   "execution_count": 37,
   "metadata": {},
   "outputs": [
    {
     "name": "stdout",
     "output_type": "stream",
     "text": [
      "Slope: -0.1427617720986606\n",
      "Intercept: 0.5662684415393379\n"
     ]
    }
   ],
   "source": [
    "slope, intercept = get_slope_intercept(model)\n",
    "print(\"Slope:\", slope)\n",
    "print(\"Intercept:\", intercept)"
   ]
  },
  {
   "cell_type": "markdown",
   "metadata": {},
   "source": [
    "\n",
    "What does the slope tell us about the strength of the relationship between pollution and yield? Also, what can we learn from the y-intercept?\n",
    "\n",
    "  - The slope value indicates a weak relationship \n",
    "  - The slope sign indicates a reversed relationship \n",
    "  - The intercept means thar when the pollution is 0 the yield is 0.5662684415393379"
   ]
  },
  {
   "cell_type": "markdown",
   "metadata": {},
   "source": [
    "When we look at the scatterplots of `Standard_yield` with `Ave_temps` and `Pollution_level`, it appears that pollution level might have a more linear relationship.  This means that we could potentially use a simple linear regression model to make predictions about the yield of a farm based on its pollution level. However, before we do this we need to further assess the strength of the linear relationship between `Pollution_level` and `Standard_yield`. \n",
    "\n",
    "Let's assess our model's performance using R-squared, Mean Absolute Error (MAE), Mean Squared Error (MSE), and Root Mean Squared Error (RMSE).\n",
    "\n",
    "We will create a function named `calculate_evaluation_metrics` that:\n",
    "1. Takes the predictions and y-values from our fitted model as input.\n",
    "2. Calculates and returns the R-squared, Mean Absolute Error (MAE), Mean Squared Error (MSE), and Root Mean Squared Error (RMSE) of the model's performance."
   ]
  },
  {
   "cell_type": "code",
   "execution_count": 46,
   "metadata": {},
   "outputs": [],
   "source": [
    "from sklearn.metrics import mean_squared_error, r2_score, mean_absolute_error\n",
    "import numpy as np"
   ]
  },
  {
   "cell_type": "code",
   "execution_count": 47,
   "metadata": {},
   "outputs": [],
   "source": [
    "def calculate_evaluation_metrics(y_true, y_pred):\n",
    "    \"\"\"\n",
    "    Calculates the evaluation metrics for a regression model.\n",
    "    params:\n",
    "    y_true: np.array, true values\n",
    "    y_pred: np.array, predicted values\n",
    "    returns: tuple, (mse, rmse, mae, r2_score)\n",
    "    \"\"\"\n",
    "    mse = mean_squared_error(y_true, y_pred)\n",
    "    rmse = np.sqrt(mse)\n",
    "    mae = mean_absolute_error(y_true, y_pred)\n",
    "    R_squared = r2_score(y_true, y_pred)\n",
    "\n",
    "    return mse, rmse, mae, R_squared"
   ]
  },
  {
   "cell_type": "code",
   "execution_count": 48,
   "metadata": {},
   "outputs": [
    {
     "name": "stdout",
     "output_type": "stream",
     "text": [
      "Mean Squared Error: 0.011477732254034844\n",
      "Root Mean Squared Error: 0.10713417873878926\n",
      "Mean Absolute Error: 0.08554642090904992\n",
      "R2 Score: 0.08165932890115568\n"
     ]
    }
   ],
   "source": [
    "mse, rmse, mae, R_squared = calculate_evaluation_metrics(y_values, predictions)\n",
    "print(\"Mean Squared Error:\", mse)\n",
    "print(\"Root Mean Squared Error:\", rmse)\n",
    "print(\"Mean Absolute Error:\", mae)\n",
    "print(\"R2 Score:\", R_squared)"
   ]
  },
  {
   "cell_type": "markdown",
   "metadata": {},
   "source": [
    "- The low R-squared means that the variation in X does not fully descripe the variation in y\n",
    "- The low MAE indicates that there is no large difference between the predicted values and the mean"
   ]
  },
  {
   "cell_type": "markdown",
   "metadata": {},
   "source": [
    "As we delve deeper into the relationship between `Pollution_level` and `Standard_yield`, we must ensure our model is not merely memorising the data but truly understanding it. This brings us to the pivotal technique of Train-Test Split.\n",
    "\n",
    "**The importance of train-test split**\n",
    "\n",
    "Imagine teaching a student for an exam by using the very questions that will appear on it. They might score perfectly, but does it mean they've truly learned? Similarly, a model might perform exceptionally on the data it was trained on, but the real test of knowledge comes from unseen data. This is where the train-test split comes in, allowing us to assess our model's generalisation capabilities by training on one subset of data and testing on another.\n",
    "\n",
    "\n",
    "We will create a function named `data_train_test_split` that:\n",
    "1. Takes in the DataFrame and the two columns we want to model the relationship between (`Pollution_level` and `Standard_yield`).\n",
    "2. Separates it into features (`X`) based on `Pollution_level` and the target (`y`) based on `Standard_yield`.\n",
    "3. Splits the data into training and testing sets using an 80-20 split and sets `random_state = 42` for reproducibility.\n",
    "4.  Returns a tuple containing: `X_train` and `X_test`, which are DataFrames containing features for training and testing, respectively, along with `y_train` and `y_test`, which are Series representing subsets of the original DataFrame's target variable for training and testing.\n"
   ]
  },
  {
   "cell_type": "code",
   "execution_count": 50,
   "metadata": {},
   "outputs": [],
   "source": [
    "from sklearn.model_selection import train_test_split"
   ]
  },
  {
   "cell_type": "code",
   "execution_count": 51,
   "metadata": {},
   "outputs": [],
   "source": [
    "def data_train_test_split (dataframe, x, y):\n",
    "    \"\"\"\n",
    "    Splits the data into training and testing sets.\n",
    "    params:\n",
    "    dataframe: pandas dataframe\n",
    "    x: string, column name\n",
    "    y: string, column name\n",
    "    returns: tuple, (x_train, x_test, y_train, y_test)\n",
    "    \"\"\"\n",
    "    x_train, x_test, y_train, y_test = train_test_split(dataframe[x], dataframe[y], test_size=0.2, random_state=42)\n",
    "    return x_train, x_test, y_train, y_test\n"
   ]
  },
  {
   "cell_type": "code",
   "execution_count": 55,
   "metadata": {},
   "outputs": [
    {
     "name": "stdout",
     "output_type": "stream",
     "text": [
      "X_train: 670     5.764306e-01\n",
      "3484    3.918987e-08\n",
      "2767    4.634201e-01\n",
      "1620    3.585489e-02\n",
      "3606    2.092824e-01\n",
      "            ...     \n",
      "3772    6.129092e-02\n",
      "5191    6.340525e-02\n",
      "5226    1.576053e-01\n",
      "5390    8.255729e-08\n",
      "860     1.470614e-01\n",
      "Name: Pollution_level, Length: 4523, dtype: float64\n",
      "X_test: 4816    0.001636\n",
      "5096    0.019206\n",
      "4706    0.057128\n",
      "1499    0.391307\n",
      "3544    0.333970\n",
      "          ...   \n",
      "3982    0.151080\n",
      "4952    0.112212\n",
      "1071    0.237123\n",
      "718     0.184092\n",
      "4103    0.000260\n",
      "Name: Pollution_level, Length: 1131, dtype: float64\n",
      "Y_train: 670     0.513675\n",
      "3484    0.503503\n",
      "2767    0.384065\n",
      "1620    0.518925\n",
      "3606    0.447944\n",
      "          ...   \n",
      "3772    0.618172\n",
      "5191    0.640683\n",
      "5226    0.795205\n",
      "5390    0.614816\n",
      "860     0.510464\n",
      "Name: Standard_yield, Length: 4523, dtype: float64\n",
      "Y_test: 4816    0.446290\n",
      "5096    0.650771\n",
      "4706    0.531284\n",
      "1499    0.516429\n",
      "3544    0.555724\n",
      "          ...   \n",
      "3982    0.540212\n",
      "4952    0.670387\n",
      "1071    0.353658\n",
      "718     0.535224\n",
      "4103    0.470315\n",
      "Name: Standard_yield, Length: 1131, dtype: float64\n"
     ]
    }
   ],
   "source": [
    "X_train, X_test, y_train, y_test = data_train_test_split(dataset, 'Pollution_level', 'Standard_yield')\n",
    "print(f\"X_train: {x_train}\")\n",
    "print(f\"X_test: {x_test}\")\n",
    "print(f\"Y_train: {y_train}\")\n",
    "print(f\"Y_test: {y_test}\")"
   ]
  },
  {
   "cell_type": "code",
   "execution_count": 56,
   "metadata": {},
   "outputs": [
    {
     "name": "stdout",
     "output_type": "stream",
     "text": [
      "X_train shape: (4523,), X_test shape: (1131,)\n",
      "y_train shape: (4523,), y_test shape: (1131,)\n"
     ]
    }
   ],
   "source": [
    "print(f\"X_train shape: {X_train.shape}, X_test shape: {X_test.shape}\")\n",
    "print(f\"y_train shape: {y_train.shape}, y_test shape: {y_test.shape}\")"
   ]
  },
  {
   "cell_type": "markdown",
   "metadata": {},
   "source": [
    "Now lets fit a linear regression model to the data.\n",
    "\n",
    "We will create a function named `train_split_linear_regression_model()` that:\n",
    "1. Takes `X_train`, `X_test`, `y_train`, `y_test` as input (the results from the `data_train_test_split()` function).\n",
    "2. Trains a simple linear regression model on the training set.\n",
    "3. Uses the testing set to make predictions.\n",
    "4. Returns a tuple containing: the model, the predictions and y_test (the actual y values in the testing set values) ."
   ]
  },
  {
   "cell_type": "code",
   "execution_count": 57,
   "metadata": {},
   "outputs": [],
   "source": [
    "def train_split_linear_regression_model(X_train, X_test, y_train, y_test): \n",
    "    \"\"\"\n",
    "    Trains and tests a linear regression model.\n",
    "    params:\n",
    "    X_train: np.array, training data\n",
    "    X_test: np.array, testing data\n",
    "    y_train: np.array, training labels\n",
    "    y_test: np.array, testing labels\n",
    "    returns: tuple, (model, y_pred)\n",
    "    \"\"\"\n",
    "    lm = LinearRegression()\n",
    "    lm.fit(X_train.values.reshape(-1,1), y_train)\n",
    "    y_pred = lm.predict(X_test.values.reshape(-1,1))\n",
    "\n",
    "    return lm, y_pred, y_test"
   ]
  },
  {
   "cell_type": "code",
   "execution_count": 62,
   "metadata": {},
   "outputs": [
    {
     "name": "stdout",
     "output_type": "stream",
     "text": [
      "Model: LinearRegression()\n",
      "Predictions: [0.56412206 0.56167249 0.55638552 ... 0.53129108 0.53868457 0.56431394]\n",
      "Actual Y-Values: 4816    0.446290\n",
      "5096    0.650771\n",
      "4706    0.531284\n",
      "1499    0.516429\n",
      "3544    0.555724\n",
      "          ...   \n",
      "3982    0.540212\n",
      "4952    0.670387\n",
      "1071    0.353658\n",
      "718     0.535224\n",
      "4103    0.470315\n",
      "Name: Standard_yield, Length: 1131, dtype: float64\n"
     ]
    }
   ],
   "source": [
    "model, predictions_test, y_values_test = train_split_linear_regression_model(X_train, X_test, y_train, y_test)\n",
    "print(f\"Model: {model}\")\n",
    "print(f\"Predictions: {predictions_test}\")\n",
    "print(f\"Actual Y-Values: {y_values}\")"
   ]
  },
  {
   "cell_type": "markdown",
   "metadata": {},
   "source": [
    "Now, let's evaluate our use our train-test model by determining R-squared, MAE, MSE, and RMSE.\n",
    "\n",
    "We will:\n",
    "1. Use the `calculate_evaluation_metrics` function (defined in Challenge 3) to calculate the R-squared, MAE, MSE, and RMSE.\n",
    "2. The function should return a tuple containing the evaluation metrics (R-squared, MAE, MSE, and RMSE).\n"
   ]
  },
  {
   "cell_type": "code",
   "execution_count": 63,
   "metadata": {},
   "outputs": [
    {
     "name": "stdout",
     "output_type": "stream",
     "text": [
      "Mean Squared Error: 0.012250634233355654\n",
      "Root Mean Squared Error: 0.11068258324305434\n",
      "Mean Absolute Error: 0.087949421197475\n",
      "R2 Score: 0.08065722992150859\n"
     ]
    }
   ],
   "source": [
    "mse, rmse, mae, R_squared = calculate_evaluation_metrics(y_values_test, predictions)\n",
    "print(\"Mean Squared Error:\", mse)\n",
    "print(\"Root Mean Squared Error:\", rmse)\n",
    "print(\"Mean Absolute Error:\", mae)\n",
    "print(\"R2 Score:\", R_squared)"
   ]
  },
  {
   "cell_type": "markdown",
   "metadata": {},
   "source": [
    "  - The fit is worse because the data used to train the model is less now.\n",
    "  - We should choose the worse option because we now know that the model is not overfitting the training data because we tested it on new unseen data.\n"
   ]
  },
  {
   "cell_type": "markdown",
   "metadata": {},
   "source": [
    "From our analysis, it seems as though neither `Ave_temps` or `Pollution_level` have a strong linear fit with `Standard_yield`. However, even if we had obtained good results from our evaluation metrics, there are still other crucial assumptions we need to verify to ensure our model is well-fitted. Residual analysis plays a pivotal role in diagnosing the fit of linear regression models, helping us understand whether the assumptions of linearity, independence, and homoscedasticity (constant variance) of residuals are met. "
   ]
  },
  {
   "cell_type": "code",
   "execution_count": 71,
   "metadata": {},
   "outputs": [
    {
     "data": {
      "image/png": "[encoded data removed]",
      "text/plain": [
       "<Figure size 640x480 with 1 Axes>"
      ]
     },
     "metadata": {},
     "output_type": "display_data"
    }
   ],
   "source": [
    "residuals = y_test - predictions_test # calculating the residuals\n",
    "plt.hist(residuals, bins=10, color='red', edgecolor='black')\n",
    "plt.xlabel('Residuals')\n",
    "plt.ylabel('Frequency')\n",
    "plt.title('Residuals Histogram')\n",
    "plt.show()"
   ]
  },
  {
   "cell_type": "code",
   "execution_count": 73,
   "metadata": {},
   "outputs": [
    {
     "name": "stdout",
     "output_type": "stream",
     "text": [
      "Residuals Skew: 0.3152724008336404\n"
     ]
    }
   ],
   "source": [
    "residuals_skew = residuals.skew()\n",
    "print(\"Residuals Skew:\", residuals_skew)"
   ]
  },
  {
   "cell_type": "markdown",
   "metadata": {},
   "source": [
    "The skewness value of 0.3152 in the residuals provides important information about the distribution of prediction errors in the model.\n",
    "\n",
    "Skewness Interpretation:\n",
    "\n",
    "Positive Skewness (0.3152):\n",
    "- The residuals have a slight positive skew\n",
    "- The distribution tail is longer on the right side\n",
    "- More extreme positive errors than negative ones\n",
    "- The mean of residuals is slightly larger than the median\n",
    "\n",
    "Skewness Scale:\n",
    "- 0: Perfect symmetry\n",
    "- 0 to 0.5: Approximately symmetric\n",
    "- 0.5 to 1: Moderately skewed\n",
    "- Larger than 1: Highly skewed\n",
    "\n",
    "Our value (0.3152):\n",
    "- Falls in the \"approximately symmetric\" range\n",
    "- Indicates relatively good model performance\n",
    "- Suggests predictions are reasonably balanced"
   ]
  },
  {
   "cell_type": "markdown",
   "metadata": {},
   "source": [
    "Now, let's create a scatter plot of these residuals against the predicted values. "
   ]
  },
  {
   "cell_type": "code",
   "execution_count": 86,
   "metadata": {},
   "outputs": [
    {
     "data": {
      "image/png": "[encoded data removed]",
      "text/plain": [
       "<Figure size 640x480 with 1 Axes>"
      ]
     },
     "metadata": {},
     "output_type": "display_data"
    }
   ],
   "source": [
    "plt.scatter(predictions_test, residuals, edgecolors='darkblue', marker='o')\n",
    "plt.axhline(y=0, color='red', linestyle='--')\n",
    "plt.xlabel('Predictions')\n",
    "plt.ylabel('Residuals')\n",
    "plt.title('Residuals vs Predictions')\n",
    "plt.show()"
   ]
  },
  {
   "cell_type": "markdown",
   "metadata": {},
   "source": [
    "The residuals plot offers several insights into the performance and behavior of the model:\n",
    "\n",
    "Heteroscedasticity:\n",
    "- The spread of residuals increases with higher predicted values.\n",
    "- This suggests heteroscedasticity, where the variance of errors is not constant across all levels of predictions.\n",
    "- It may indicate that the model's error increases with certain prediction ranges.\n",
    "\n",
    "Non-linearity:\n",
    "- The pattern suggests potential non-linearity in the data that the model hasn't captured.\n",
    "- We can consider using non-linear models or adding polynomial features.\n",
    "\n",
    "Bias:\n",
    "- The residuals are centered around zero, indicating no significant bias in predictions.\n",
    "- However, the spread suggests the model might not be capturing all patterns.\n",
    "\n",
    "Outliers:\n",
    "- There are some points with large residuals, indicating potential outliers.\n",
    "- We should investigate these points to see if they are data errors or require special handling."
   ]
  },
  {
   "cell_type": "code",
   "execution_count": 87,
   "metadata": {},
   "outputs": [
    {
     "name": "stdout",
     "output_type": "stream",
     "text": [
      "Mean: 0.005858023192321728\n",
      "Standard Deviation: 0.11057634782511018\n"
     ]
    }
   ],
   "source": [
    "mean = residuals.mean()\n",
    "std = residuals.std()\n",
    "print(\"Mean:\", mean)\n",
    "print(\"Standard Deviation:\", std)"
   ]
  },
  {
   "cell_type": "markdown",
   "metadata": {},
   "source": [
    "## Conclusion\n",
    "\n",
    "Linear regression, for all its strengths, assumes a straightforward relationship between the predictor and the outcome. Yet, the natural world seldom adheres to such simplicity. Factors influencing crop yields be it temperature, rainfall, or pollution—interact in complex, often nonlinear ways. Our initial model with `Ave_temps` hinted at this complexity, suggesting that the effect of the average temperature on yields might follow a more intricate pattern than a straight line can depict (or no pattern at all).\n",
    "\n",
    "Our yield also depends on more than just the pollution or the temperature, it depends on many of the factors. From our EDA we could see that. We also saw that not all crops are affected equally by pollution or temperature, so we could simplify our model if we remove the influence of the different crops."
   ]
  }
 ],
 "metadata": {
  "kernelspec": {
   "display_name": "Data_Science",
   "language": "python",
   "name": "python3"
  },
  "language_info": {
   "codemirror_mode": {
    "name": "ipython",
    "version": 3
   },
   "file_extension": ".py",
   "mimetype": "text/x-python",
   "name": "python",
   "nbconvert_exporter": "python",
   "pygments_lexer": "ipython3",
   "version": "3.11.7"
  }
 },
 "nbformat": 4,
 "nbformat_minor": 2
}
